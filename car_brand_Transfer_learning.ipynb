{
  "cells": [
    {
      "cell_type": "code",
      "execution_count": null,
      "metadata": {
        "colab": {
          "base_uri": "https://localhost:8080/"
        },
        "id": "29Im25ut9uxk",
        "outputId": "832dd364-a257-4972-fec9-2eb1fadeddf8"
      },
      "outputs": [
        {
          "name": "stdout",
          "output_type": "stream",
          "text": [
            "Drive already mounted at /content/drive; to attempt to forcibly remount, call drive.mount(\"/content/drive\", force_remount=True).\n"
          ]
        }
      ],
      "source": [
        "from google.colab import drive\n",
        "drive.mount('/content/drive')"
      ]
    },
    {
      "cell_type": "code",
      "execution_count": null,
      "metadata": {
        "id": "jQfvqQ4R2_9Y"
      },
      "outputs": [],
      "source": [
        "# import the libraries as shown below\n",
        "\n",
        "from tensorflow.keras.layers import Input, Lambda, Dense, Flatten\n",
        "from tensorflow.keras.models import Model\n",
        "from tensorflow.keras.applications.resnet50 import ResNet50\n",
        "#from keras.applications.vgg16 import VGG16\n",
        "from tensorflow.keras.applications.resnet50 import preprocess_input\n",
        "from tensorflow.keras.preprocessing import image\n",
        "from tensorflow.keras.preprocessing.image import ImageDataGenerator,load_img\n",
        "from tensorflow.keras.models import Sequential\n",
        "import numpy as np\n",
        "from glob import glob\n",
        "import matplotlib.pyplot as plt"
      ]
    },
    {
      "cell_type": "code",
      "source": [
        "import tensorflow as tf \n",
        "print(tf.__version__)"
      ],
      "metadata": {
        "colab": {
          "base_uri": "https://localhost:8080/"
        },
        "id": "2pSmhaiZJow-",
        "outputId": "a898f900-931a-46cf-ee00-2d646df7ef5e"
      },
      "execution_count": 58,
      "outputs": [
        {
          "output_type": "stream",
          "name": "stdout",
          "text": [
            "2.7.0\n"
          ]
        }
      ]
    },
    {
      "cell_type": "code",
      "execution_count": null,
      "metadata": {
        "id": "9KcAGiHp2_9b"
      },
      "outputs": [],
      "source": [
        "# re-size all the images to this\n",
        "IMAGE_SIZE = [224, 224]\n",
        "train_path = '/content/drive/MyDrive/Datasets/Train'\n",
        "valid_path = '/content/drive/MyDrive/Datasets/Test'"
      ]
    },
    {
      "cell_type": "code",
      "execution_count": null,
      "metadata": {
        "colab": {
          "base_uri": "https://localhost:8080/"
        },
        "id": "7gXf3K0R2_9c",
        "outputId": "f911ab28-fb8d-436f-ae1e-bcc535fc8994"
      },
      "outputs": [
        {
          "name": "stdout",
          "output_type": "stream",
          "text": [
            "Downloading data from https://storage.googleapis.com/tensorflow/keras-applications/resnet/resnet50_weights_tf_dim_ordering_tf_kernels_notop.h5\n",
            "94773248/94765736 [==============================] - 1s 0us/step\n",
            "94781440/94765736 [==============================] - 1s 0us/step\n"
          ]
        }
      ],
      "source": [
        "# Import the Resnet library as shown below and add preprocessing layer to the front of Resnet\n",
        "# Here we will be using imagenet weights\n",
        "resnet = ResNet50(input_shape=IMAGE_SIZE + [3], weights='imagenet', include_top=False)"
      ]
    },
    {
      "cell_type": "code",
      "execution_count": null,
      "metadata": {
        "id": "qAFc7FHZ2_9e"
      },
      "outputs": [],
      "source": [
        "# don't train existing weights\n",
        "for layer in resnet.layers:\n",
        "    layer.trainable = False"
      ]
    },
    {
      "cell_type": "code",
      "execution_count": null,
      "metadata": {
        "id": "MLg1xXC32_9f"
      },
      "outputs": [],
      "source": [
        "  # useful for getting number of output classes\n",
        "folders = glob('/content/drive/MyDrive/Datasets/Train/*')"
      ]
    },
    {
      "cell_type": "code",
      "execution_count": null,
      "metadata": {
        "id": "ltmfNE1t2_9h"
      },
      "outputs": [],
      "source": [
        "# our layers - you can add more if you want\n",
        "x = Flatten()(resnet.output)"
      ]
    },
    {
      "cell_type": "code",
      "execution_count": null,
      "metadata": {
        "id": "rRCvSeqw2_9j"
      },
      "outputs": [],
      "source": [
        "prediction = Dense(len(folders), activation='softmax')(x)\n",
        "\n",
        "# create a model object\n",
        "model = Model(inputs=resnet.input, outputs=prediction)"
      ]
    },
    {
      "cell_type": "code",
      "execution_count": null,
      "metadata": {
        "colab": {
          "base_uri": "https://localhost:8080/"
        },
        "id": "9FWandav2_9l",
        "outputId": "ef01e0e3-041a-415a-bf78-bdae35be8402"
      },
      "outputs": [
        {
          "name": "stdout",
          "output_type": "stream",
          "text": [
            "Model: \"model\"\n",
            "__________________________________________________________________________________________________\n",
            " Layer (type)                   Output Shape         Param #     Connected to                     \n",
            "==================================================================================================\n",
            " input_1 (InputLayer)           [(None, 224, 224, 3  0           []                               \n",
            "                                )]                                                                \n",
            "                                                                                                  \n",
            " conv1_pad (ZeroPadding2D)      (None, 230, 230, 3)  0           ['input_1[0][0]']                \n",
            "                                                                                                  \n",
            " conv1_conv (Conv2D)            (None, 112, 112, 64  9472        ['conv1_pad[0][0]']              \n",
            "                                )                                                                 \n",
            "                                                                                                  \n",
            " conv1_bn (BatchNormalization)  (None, 112, 112, 64  256         ['conv1_conv[0][0]']             \n",
            "                                )                                                                 \n",
            "                                                                                                  \n",
            " conv1_relu (Activation)        (None, 112, 112, 64  0           ['conv1_bn[0][0]']               \n",
            "                                )                                                                 \n",
            "                                                                                                  \n",
            " pool1_pad (ZeroPadding2D)      (None, 114, 114, 64  0           ['conv1_relu[0][0]']             \n",
            "                                )                                                                 \n",
            "                                                                                                  \n",
            " pool1_pool (MaxPooling2D)      (None, 56, 56, 64)   0           ['pool1_pad[0][0]']              \n",
            "                                                                                                  \n",
            " conv2_block1_1_conv (Conv2D)   (None, 56, 56, 64)   4160        ['pool1_pool[0][0]']             \n",
            "                                                                                                  \n",
            " conv2_block1_1_bn (BatchNormal  (None, 56, 56, 64)  256         ['conv2_block1_1_conv[0][0]']    \n",
            " ization)                                                                                         \n",
            "                                                                                                  \n",
            " conv2_block1_1_relu (Activatio  (None, 56, 56, 64)  0           ['conv2_block1_1_bn[0][0]']      \n",
            " n)                                                                                               \n",
            "                                                                                                  \n",
            " conv2_block1_2_conv (Conv2D)   (None, 56, 56, 64)   36928       ['conv2_block1_1_relu[0][0]']    \n",
            "                                                                                                  \n",
            " conv2_block1_2_bn (BatchNormal  (None, 56, 56, 64)  256         ['conv2_block1_2_conv[0][0]']    \n",
            " ization)                                                                                         \n",
            "                                                                                                  \n",
            " conv2_block1_2_relu (Activatio  (None, 56, 56, 64)  0           ['conv2_block1_2_bn[0][0]']      \n",
            " n)                                                                                               \n",
            "                                                                                                  \n",
            " conv2_block1_0_conv (Conv2D)   (None, 56, 56, 256)  16640       ['pool1_pool[0][0]']             \n",
            "                                                                                                  \n",
            " conv2_block1_3_conv (Conv2D)   (None, 56, 56, 256)  16640       ['conv2_block1_2_relu[0][0]']    \n",
            "                                                                                                  \n",
            " conv2_block1_0_bn (BatchNormal  (None, 56, 56, 256)  1024       ['conv2_block1_0_conv[0][0]']    \n",
            " ization)                                                                                         \n",
            "                                                                                                  \n",
            " conv2_block1_3_bn (BatchNormal  (None, 56, 56, 256)  1024       ['conv2_block1_3_conv[0][0]']    \n",
            " ization)                                                                                         \n",
            "                                                                                                  \n",
            " conv2_block1_add (Add)         (None, 56, 56, 256)  0           ['conv2_block1_0_bn[0][0]',      \n",
            "                                                                  'conv2_block1_3_bn[0][0]']      \n",
            "                                                                                                  \n",
            " conv2_block1_out (Activation)  (None, 56, 56, 256)  0           ['conv2_block1_add[0][0]']       \n",
            "                                                                                                  \n",
            " conv2_block2_1_conv (Conv2D)   (None, 56, 56, 64)   16448       ['conv2_block1_out[0][0]']       \n",
            "                                                                                                  \n",
            " conv2_block2_1_bn (BatchNormal  (None, 56, 56, 64)  256         ['conv2_block2_1_conv[0][0]']    \n",
            " ization)                                                                                         \n",
            "                                                                                                  \n",
            " conv2_block2_1_relu (Activatio  (None, 56, 56, 64)  0           ['conv2_block2_1_bn[0][0]']      \n",
            " n)                                                                                               \n",
            "                                                                                                  \n",
            " conv2_block2_2_conv (Conv2D)   (None, 56, 56, 64)   36928       ['conv2_block2_1_relu[0][0]']    \n",
            "                                                                                                  \n",
            " conv2_block2_2_bn (BatchNormal  (None, 56, 56, 64)  256         ['conv2_block2_2_conv[0][0]']    \n",
            " ization)                                                                                         \n",
            "                                                                                                  \n",
            " conv2_block2_2_relu (Activatio  (None, 56, 56, 64)  0           ['conv2_block2_2_bn[0][0]']      \n",
            " n)                                                                                               \n",
            "                                                                                                  \n",
            " conv2_block2_3_conv (Conv2D)   (None, 56, 56, 256)  16640       ['conv2_block2_2_relu[0][0]']    \n",
            "                                                                                                  \n",
            " conv2_block2_3_bn (BatchNormal  (None, 56, 56, 256)  1024       ['conv2_block2_3_conv[0][0]']    \n",
            " ization)                                                                                         \n",
            "                                                                                                  \n",
            " conv2_block2_add (Add)         (None, 56, 56, 256)  0           ['conv2_block1_out[0][0]',       \n",
            "                                                                  'conv2_block2_3_bn[0][0]']      \n",
            "                                                                                                  \n",
            " conv2_block2_out (Activation)  (None, 56, 56, 256)  0           ['conv2_block2_add[0][0]']       \n",
            "                                                                                                  \n",
            " conv2_block3_1_conv (Conv2D)   (None, 56, 56, 64)   16448       ['conv2_block2_out[0][0]']       \n",
            "                                                                                                  \n",
            " conv2_block3_1_bn (BatchNormal  (None, 56, 56, 64)  256         ['conv2_block3_1_conv[0][0]']    \n",
            " ization)                                                                                         \n",
            "                                                                                                  \n",
            " conv2_block3_1_relu (Activatio  (None, 56, 56, 64)  0           ['conv2_block3_1_bn[0][0]']      \n",
            " n)                                                                                               \n",
            "                                                                                                  \n",
            " conv2_block3_2_conv (Conv2D)   (None, 56, 56, 64)   36928       ['conv2_block3_1_relu[0][0]']    \n",
            "                                                                                                  \n",
            " conv2_block3_2_bn (BatchNormal  (None, 56, 56, 64)  256         ['conv2_block3_2_conv[0][0]']    \n",
            " ization)                                                                                         \n",
            "                                                                                                  \n",
            " conv2_block3_2_relu (Activatio  (None, 56, 56, 64)  0           ['conv2_block3_2_bn[0][0]']      \n",
            " n)                                                                                               \n",
            "                                                                                                  \n",
            " conv2_block3_3_conv (Conv2D)   (None, 56, 56, 256)  16640       ['conv2_block3_2_relu[0][0]']    \n",
            "                                                                                                  \n",
            " conv2_block3_3_bn (BatchNormal  (None, 56, 56, 256)  1024       ['conv2_block3_3_conv[0][0]']    \n",
            " ization)                                                                                         \n",
            "                                                                                                  \n",
            " conv2_block3_add (Add)         (None, 56, 56, 256)  0           ['conv2_block2_out[0][0]',       \n",
            "                                                                  'conv2_block3_3_bn[0][0]']      \n",
            "                                                                                                  \n",
            " conv2_block3_out (Activation)  (None, 56, 56, 256)  0           ['conv2_block3_add[0][0]']       \n",
            "                                                                                                  \n",
            " conv3_block1_1_conv (Conv2D)   (None, 28, 28, 128)  32896       ['conv2_block3_out[0][0]']       \n",
            "                                                                                                  \n",
            " conv3_block1_1_bn (BatchNormal  (None, 28, 28, 128)  512        ['conv3_block1_1_conv[0][0]']    \n",
            " ization)                                                                                         \n",
            "                                                                                                  \n",
            " conv3_block1_1_relu (Activatio  (None, 28, 28, 128)  0          ['conv3_block1_1_bn[0][0]']      \n",
            " n)                                                                                               \n",
            "                                                                                                  \n",
            " conv3_block1_2_conv (Conv2D)   (None, 28, 28, 128)  147584      ['conv3_block1_1_relu[0][0]']    \n",
            "                                                                                                  \n",
            " conv3_block1_2_bn (BatchNormal  (None, 28, 28, 128)  512        ['conv3_block1_2_conv[0][0]']    \n",
            " ization)                                                                                         \n",
            "                                                                                                  \n",
            " conv3_block1_2_relu (Activatio  (None, 28, 28, 128)  0          ['conv3_block1_2_bn[0][0]']      \n",
            " n)                                                                                               \n",
            "                                                                                                  \n",
            " conv3_block1_0_conv (Conv2D)   (None, 28, 28, 512)  131584      ['conv2_block3_out[0][0]']       \n",
            "                                                                                                  \n",
            " conv3_block1_3_conv (Conv2D)   (None, 28, 28, 512)  66048       ['conv3_block1_2_relu[0][0]']    \n",
            "                                                                                                  \n",
            " conv3_block1_0_bn (BatchNormal  (None, 28, 28, 512)  2048       ['conv3_block1_0_conv[0][0]']    \n",
            " ization)                                                                                         \n",
            "                                                                                                  \n",
            " conv3_block1_3_bn (BatchNormal  (None, 28, 28, 512)  2048       ['conv3_block1_3_conv[0][0]']    \n",
            " ization)                                                                                         \n",
            "                                                                                                  \n",
            " conv3_block1_add (Add)         (None, 28, 28, 512)  0           ['conv3_block1_0_bn[0][0]',      \n",
            "                                                                  'conv3_block1_3_bn[0][0]']      \n",
            "                                                                                                  \n",
            " conv3_block1_out (Activation)  (None, 28, 28, 512)  0           ['conv3_block1_add[0][0]']       \n",
            "                                                                                                  \n",
            " conv3_block2_1_conv (Conv2D)   (None, 28, 28, 128)  65664       ['conv3_block1_out[0][0]']       \n",
            "                                                                                                  \n",
            " conv3_block2_1_bn (BatchNormal  (None, 28, 28, 128)  512        ['conv3_block2_1_conv[0][0]']    \n",
            " ization)                                                                                         \n",
            "                                                                                                  \n",
            " conv3_block2_1_relu (Activatio  (None, 28, 28, 128)  0          ['conv3_block2_1_bn[0][0]']      \n",
            " n)                                                                                               \n",
            "                                                                                                  \n",
            " conv3_block2_2_conv (Conv2D)   (None, 28, 28, 128)  147584      ['conv3_block2_1_relu[0][0]']    \n",
            "                                                                                                  \n",
            " conv3_block2_2_bn (BatchNormal  (None, 28, 28, 128)  512        ['conv3_block2_2_conv[0][0]']    \n",
            " ization)                                                                                         \n",
            "                                                                                                  \n",
            " conv3_block2_2_relu (Activatio  (None, 28, 28, 128)  0          ['conv3_block2_2_bn[0][0]']      \n",
            " n)                                                                                               \n",
            "                                                                                                  \n",
            " conv3_block2_3_conv (Conv2D)   (None, 28, 28, 512)  66048       ['conv3_block2_2_relu[0][0]']    \n",
            "                                                                                                  \n",
            " conv3_block2_3_bn (BatchNormal  (None, 28, 28, 512)  2048       ['conv3_block2_3_conv[0][0]']    \n",
            " ization)                                                                                         \n",
            "                                                                                                  \n",
            " conv3_block2_add (Add)         (None, 28, 28, 512)  0           ['conv3_block1_out[0][0]',       \n",
            "                                                                  'conv3_block2_3_bn[0][0]']      \n",
            "                                                                                                  \n",
            " conv3_block2_out (Activation)  (None, 28, 28, 512)  0           ['conv3_block2_add[0][0]']       \n",
            "                                                                                                  \n",
            " conv3_block3_1_conv (Conv2D)   (None, 28, 28, 128)  65664       ['conv3_block2_out[0][0]']       \n",
            "                                                                                                  \n",
            " conv3_block3_1_bn (BatchNormal  (None, 28, 28, 128)  512        ['conv3_block3_1_conv[0][0]']    \n",
            " ization)                                                                                         \n",
            "                                                                                                  \n",
            " conv3_block3_1_relu (Activatio  (None, 28, 28, 128)  0          ['conv3_block3_1_bn[0][0]']      \n",
            " n)                                                                                               \n",
            "                                                                                                  \n",
            " conv3_block3_2_conv (Conv2D)   (None, 28, 28, 128)  147584      ['conv3_block3_1_relu[0][0]']    \n",
            "                                                                                                  \n",
            " conv3_block3_2_bn (BatchNormal  (None, 28, 28, 128)  512        ['conv3_block3_2_conv[0][0]']    \n",
            " ization)                                                                                         \n",
            "                                                                                                  \n",
            " conv3_block3_2_relu (Activatio  (None, 28, 28, 128)  0          ['conv3_block3_2_bn[0][0]']      \n",
            " n)                                                                                               \n",
            "                                                                                                  \n",
            " conv3_block3_3_conv (Conv2D)   (None, 28, 28, 512)  66048       ['conv3_block3_2_relu[0][0]']    \n",
            "                                                                                                  \n",
            " conv3_block3_3_bn (BatchNormal  (None, 28, 28, 512)  2048       ['conv3_block3_3_conv[0][0]']    \n",
            " ization)                                                                                         \n",
            "                                                                                                  \n",
            " conv3_block3_add (Add)         (None, 28, 28, 512)  0           ['conv3_block2_out[0][0]',       \n",
            "                                                                  'conv3_block3_3_bn[0][0]']      \n",
            "                                                                                                  \n",
            " conv3_block3_out (Activation)  (None, 28, 28, 512)  0           ['conv3_block3_add[0][0]']       \n",
            "                                                                                                  \n",
            " conv3_block4_1_conv (Conv2D)   (None, 28, 28, 128)  65664       ['conv3_block3_out[0][0]']       \n",
            "                                                                                                  \n",
            " conv3_block4_1_bn (BatchNormal  (None, 28, 28, 128)  512        ['conv3_block4_1_conv[0][0]']    \n",
            " ization)                                                                                         \n",
            "                                                                                                  \n",
            " conv3_block4_1_relu (Activatio  (None, 28, 28, 128)  0          ['conv3_block4_1_bn[0][0]']      \n",
            " n)                                                                                               \n",
            "                                                                                                  \n",
            " conv3_block4_2_conv (Conv2D)   (None, 28, 28, 128)  147584      ['conv3_block4_1_relu[0][0]']    \n",
            "                                                                                                  \n",
            " conv3_block4_2_bn (BatchNormal  (None, 28, 28, 128)  512        ['conv3_block4_2_conv[0][0]']    \n",
            " ization)                                                                                         \n",
            "                                                                                                  \n",
            " conv3_block4_2_relu (Activatio  (None, 28, 28, 128)  0          ['conv3_block4_2_bn[0][0]']      \n",
            " n)                                                                                               \n",
            "                                                                                                  \n",
            " conv3_block4_3_conv (Conv2D)   (None, 28, 28, 512)  66048       ['conv3_block4_2_relu[0][0]']    \n",
            "                                                                                                  \n",
            " conv3_block4_3_bn (BatchNormal  (None, 28, 28, 512)  2048       ['conv3_block4_3_conv[0][0]']    \n",
            " ization)                                                                                         \n",
            "                                                                                                  \n",
            " conv3_block4_add (Add)         (None, 28, 28, 512)  0           ['conv3_block3_out[0][0]',       \n",
            "                                                                  'conv3_block4_3_bn[0][0]']      \n",
            "                                                                                                  \n",
            " conv3_block4_out (Activation)  (None, 28, 28, 512)  0           ['conv3_block4_add[0][0]']       \n",
            "                                                                                                  \n",
            " conv4_block1_1_conv (Conv2D)   (None, 14, 14, 256)  131328      ['conv3_block4_out[0][0]']       \n",
            "                                                                                                  \n",
            " conv4_block1_1_bn (BatchNormal  (None, 14, 14, 256)  1024       ['conv4_block1_1_conv[0][0]']    \n",
            " ization)                                                                                         \n",
            "                                                                                                  \n",
            " conv4_block1_1_relu (Activatio  (None, 14, 14, 256)  0          ['conv4_block1_1_bn[0][0]']      \n",
            " n)                                                                                               \n",
            "                                                                                                  \n",
            " conv4_block1_2_conv (Conv2D)   (None, 14, 14, 256)  590080      ['conv4_block1_1_relu[0][0]']    \n",
            "                                                                                                  \n",
            " conv4_block1_2_bn (BatchNormal  (None, 14, 14, 256)  1024       ['conv4_block1_2_conv[0][0]']    \n",
            " ization)                                                                                         \n",
            "                                                                                                  \n",
            " conv4_block1_2_relu (Activatio  (None, 14, 14, 256)  0          ['conv4_block1_2_bn[0][0]']      \n",
            " n)                                                                                               \n",
            "                                                                                                  \n",
            " conv4_block1_0_conv (Conv2D)   (None, 14, 14, 1024  525312      ['conv3_block4_out[0][0]']       \n",
            "                                )                                                                 \n",
            "                                                                                                  \n",
            " conv4_block1_3_conv (Conv2D)   (None, 14, 14, 1024  263168      ['conv4_block1_2_relu[0][0]']    \n",
            "                                )                                                                 \n",
            "                                                                                                  \n",
            " conv4_block1_0_bn (BatchNormal  (None, 14, 14, 1024  4096       ['conv4_block1_0_conv[0][0]']    \n",
            " ization)                       )                                                                 \n",
            "                                                                                                  \n",
            " conv4_block1_3_bn (BatchNormal  (None, 14, 14, 1024  4096       ['conv4_block1_3_conv[0][0]']    \n",
            " ization)                       )                                                                 \n",
            "                                                                                                  \n",
            " conv4_block1_add (Add)         (None, 14, 14, 1024  0           ['conv4_block1_0_bn[0][0]',      \n",
            "                                )                                 'conv4_block1_3_bn[0][0]']      \n",
            "                                                                                                  \n",
            " conv4_block1_out (Activation)  (None, 14, 14, 1024  0           ['conv4_block1_add[0][0]']       \n",
            "                                )                                                                 \n",
            "                                                                                                  \n",
            " conv4_block2_1_conv (Conv2D)   (None, 14, 14, 256)  262400      ['conv4_block1_out[0][0]']       \n",
            "                                                                                                  \n",
            " conv4_block2_1_bn (BatchNormal  (None, 14, 14, 256)  1024       ['conv4_block2_1_conv[0][0]']    \n",
            " ization)                                                                                         \n",
            "                                                                                                  \n",
            " conv4_block2_1_relu (Activatio  (None, 14, 14, 256)  0          ['conv4_block2_1_bn[0][0]']      \n",
            " n)                                                                                               \n",
            "                                                                                                  \n",
            " conv4_block2_2_conv (Conv2D)   (None, 14, 14, 256)  590080      ['conv4_block2_1_relu[0][0]']    \n",
            "                                                                                                  \n",
            " conv4_block2_2_bn (BatchNormal  (None, 14, 14, 256)  1024       ['conv4_block2_2_conv[0][0]']    \n",
            " ization)                                                                                         \n",
            "                                                                                                  \n",
            " conv4_block2_2_relu (Activatio  (None, 14, 14, 256)  0          ['conv4_block2_2_bn[0][0]']      \n",
            " n)                                                                                               \n",
            "                                                                                                  \n",
            " conv4_block2_3_conv (Conv2D)   (None, 14, 14, 1024  263168      ['conv4_block2_2_relu[0][0]']    \n",
            "                                )                                                                 \n",
            "                                                                                                  \n",
            " conv4_block2_3_bn (BatchNormal  (None, 14, 14, 1024  4096       ['conv4_block2_3_conv[0][0]']    \n",
            " ization)                       )                                                                 \n",
            "                                                                                                  \n",
            " conv4_block2_add (Add)         (None, 14, 14, 1024  0           ['conv4_block1_out[0][0]',       \n",
            "                                )                                 'conv4_block2_3_bn[0][0]']      \n",
            "                                                                                                  \n",
            " conv4_block2_out (Activation)  (None, 14, 14, 1024  0           ['conv4_block2_add[0][0]']       \n",
            "                                )                                                                 \n",
            "                                                                                                  \n",
            " conv4_block3_1_conv (Conv2D)   (None, 14, 14, 256)  262400      ['conv4_block2_out[0][0]']       \n",
            "                                                                                                  \n",
            " conv4_block3_1_bn (BatchNormal  (None, 14, 14, 256)  1024       ['conv4_block3_1_conv[0][0]']    \n",
            " ization)                                                                                         \n",
            "                                                                                                  \n",
            " conv4_block3_1_relu (Activatio  (None, 14, 14, 256)  0          ['conv4_block3_1_bn[0][0]']      \n",
            " n)                                                                                               \n",
            "                                                                                                  \n",
            " conv4_block3_2_conv (Conv2D)   (None, 14, 14, 256)  590080      ['conv4_block3_1_relu[0][0]']    \n",
            "                                                                                                  \n",
            " conv4_block3_2_bn (BatchNormal  (None, 14, 14, 256)  1024       ['conv4_block3_2_conv[0][0]']    \n",
            " ization)                                                                                         \n",
            "                                                                                                  \n",
            " conv4_block3_2_relu (Activatio  (None, 14, 14, 256)  0          ['conv4_block3_2_bn[0][0]']      \n",
            " n)                                                                                               \n",
            "                                                                                                  \n",
            " conv4_block3_3_conv (Conv2D)   (None, 14, 14, 1024  263168      ['conv4_block3_2_relu[0][0]']    \n",
            "                                )                                                                 \n",
            "                                                                                                  \n",
            " conv4_block3_3_bn (BatchNormal  (None, 14, 14, 1024  4096       ['conv4_block3_3_conv[0][0]']    \n",
            " ization)                       )                                                                 \n",
            "                                                                                                  \n",
            " conv4_block3_add (Add)         (None, 14, 14, 1024  0           ['conv4_block2_out[0][0]',       \n",
            "                                )                                 'conv4_block3_3_bn[0][0]']      \n",
            "                                                                                                  \n",
            " conv4_block3_out (Activation)  (None, 14, 14, 1024  0           ['conv4_block3_add[0][0]']       \n",
            "                                )                                                                 \n",
            "                                                                                                  \n",
            " conv4_block4_1_conv (Conv2D)   (None, 14, 14, 256)  262400      ['conv4_block3_out[0][0]']       \n",
            "                                                                                                  \n",
            " conv4_block4_1_bn (BatchNormal  (None, 14, 14, 256)  1024       ['conv4_block4_1_conv[0][0]']    \n",
            " ization)                                                                                         \n",
            "                                                                                                  \n",
            " conv4_block4_1_relu (Activatio  (None, 14, 14, 256)  0          ['conv4_block4_1_bn[0][0]']      \n",
            " n)                                                                                               \n",
            "                                                                                                  \n",
            " conv4_block4_2_conv (Conv2D)   (None, 14, 14, 256)  590080      ['conv4_block4_1_relu[0][0]']    \n",
            "                                                                                                  \n",
            " conv4_block4_2_bn (BatchNormal  (None, 14, 14, 256)  1024       ['conv4_block4_2_conv[0][0]']    \n",
            " ization)                                                                                         \n",
            "                                                                                                  \n",
            " conv4_block4_2_relu (Activatio  (None, 14, 14, 256)  0          ['conv4_block4_2_bn[0][0]']      \n",
            " n)                                                                                               \n",
            "                                                                                                  \n",
            " conv4_block4_3_conv (Conv2D)   (None, 14, 14, 1024  263168      ['conv4_block4_2_relu[0][0]']    \n",
            "                                )                                                                 \n",
            "                                                                                                  \n",
            " conv4_block4_3_bn (BatchNormal  (None, 14, 14, 1024  4096       ['conv4_block4_3_conv[0][0]']    \n",
            " ization)                       )                                                                 \n",
            "                                                                                                  \n",
            " conv4_block4_add (Add)         (None, 14, 14, 1024  0           ['conv4_block3_out[0][0]',       \n",
            "                                )                                 'conv4_block4_3_bn[0][0]']      \n",
            "                                                                                                  \n",
            " conv4_block4_out (Activation)  (None, 14, 14, 1024  0           ['conv4_block4_add[0][0]']       \n",
            "                                )                                                                 \n",
            "                                                                                                  \n",
            " conv4_block5_1_conv (Conv2D)   (None, 14, 14, 256)  262400      ['conv4_block4_out[0][0]']       \n",
            "                                                                                                  \n",
            " conv4_block5_1_bn (BatchNormal  (None, 14, 14, 256)  1024       ['conv4_block5_1_conv[0][0]']    \n",
            " ization)                                                                                         \n",
            "                                                                                                  \n",
            " conv4_block5_1_relu (Activatio  (None, 14, 14, 256)  0          ['conv4_block5_1_bn[0][0]']      \n",
            " n)                                                                                               \n",
            "                                                                                                  \n",
            " conv4_block5_2_conv (Conv2D)   (None, 14, 14, 256)  590080      ['conv4_block5_1_relu[0][0]']    \n",
            "                                                                                                  \n",
            " conv4_block5_2_bn (BatchNormal  (None, 14, 14, 256)  1024       ['conv4_block5_2_conv[0][0]']    \n",
            " ization)                                                                                         \n",
            "                                                                                                  \n",
            " conv4_block5_2_relu (Activatio  (None, 14, 14, 256)  0          ['conv4_block5_2_bn[0][0]']      \n",
            " n)                                                                                               \n",
            "                                                                                                  \n",
            " conv4_block5_3_conv (Conv2D)   (None, 14, 14, 1024  263168      ['conv4_block5_2_relu[0][0]']    \n",
            "                                )                                                                 \n",
            "                                                                                                  \n",
            " conv4_block5_3_bn (BatchNormal  (None, 14, 14, 1024  4096       ['conv4_block5_3_conv[0][0]']    \n",
            " ization)                       )                                                                 \n",
            "                                                                                                  \n",
            " conv4_block5_add (Add)         (None, 14, 14, 1024  0           ['conv4_block4_out[0][0]',       \n",
            "                                )                                 'conv4_block5_3_bn[0][0]']      \n",
            "                                                                                                  \n",
            " conv4_block5_out (Activation)  (None, 14, 14, 1024  0           ['conv4_block5_add[0][0]']       \n",
            "                                )                                                                 \n",
            "                                                                                                  \n",
            " conv4_block6_1_conv (Conv2D)   (None, 14, 14, 256)  262400      ['conv4_block5_out[0][0]']       \n",
            "                                                                                                  \n",
            " conv4_block6_1_bn (BatchNormal  (None, 14, 14, 256)  1024       ['conv4_block6_1_conv[0][0]']    \n",
            " ization)                                                                                         \n",
            "                                                                                                  \n",
            " conv4_block6_1_relu (Activatio  (None, 14, 14, 256)  0          ['conv4_block6_1_bn[0][0]']      \n",
            " n)                                                                                               \n",
            "                                                                                                  \n",
            " conv4_block6_2_conv (Conv2D)   (None, 14, 14, 256)  590080      ['conv4_block6_1_relu[0][0]']    \n",
            "                                                                                                  \n",
            " conv4_block6_2_bn (BatchNormal  (None, 14, 14, 256)  1024       ['conv4_block6_2_conv[0][0]']    \n",
            " ization)                                                                                         \n",
            "                                                                                                  \n",
            " conv4_block6_2_relu (Activatio  (None, 14, 14, 256)  0          ['conv4_block6_2_bn[0][0]']      \n",
            " n)                                                                                               \n",
            "                                                                                                  \n",
            " conv4_block6_3_conv (Conv2D)   (None, 14, 14, 1024  263168      ['conv4_block6_2_relu[0][0]']    \n",
            "                                )                                                                 \n",
            "                                                                                                  \n",
            " conv4_block6_3_bn (BatchNormal  (None, 14, 14, 1024  4096       ['conv4_block6_3_conv[0][0]']    \n",
            " ization)                       )                                                                 \n",
            "                                                                                                  \n",
            " conv4_block6_add (Add)         (None, 14, 14, 1024  0           ['conv4_block5_out[0][0]',       \n",
            "                                )                                 'conv4_block6_3_bn[0][0]']      \n",
            "                                                                                                  \n",
            " conv4_block6_out (Activation)  (None, 14, 14, 1024  0           ['conv4_block6_add[0][0]']       \n",
            "                                )                                                                 \n",
            "                                                                                                  \n",
            " conv5_block1_1_conv (Conv2D)   (None, 7, 7, 512)    524800      ['conv4_block6_out[0][0]']       \n",
            "                                                                                                  \n",
            " conv5_block1_1_bn (BatchNormal  (None, 7, 7, 512)   2048        ['conv5_block1_1_conv[0][0]']    \n",
            " ization)                                                                                         \n",
            "                                                                                                  \n",
            " conv5_block1_1_relu (Activatio  (None, 7, 7, 512)   0           ['conv5_block1_1_bn[0][0]']      \n",
            " n)                                                                                               \n",
            "                                                                                                  \n",
            " conv5_block1_2_conv (Conv2D)   (None, 7, 7, 512)    2359808     ['conv5_block1_1_relu[0][0]']    \n",
            "                                                                                                  \n",
            " conv5_block1_2_bn (BatchNormal  (None, 7, 7, 512)   2048        ['conv5_block1_2_conv[0][0]']    \n",
            " ization)                                                                                         \n",
            "                                                                                                  \n",
            " conv5_block1_2_relu (Activatio  (None, 7, 7, 512)   0           ['conv5_block1_2_bn[0][0]']      \n",
            " n)                                                                                               \n",
            "                                                                                                  \n",
            " conv5_block1_0_conv (Conv2D)   (None, 7, 7, 2048)   2099200     ['conv4_block6_out[0][0]']       \n",
            "                                                                                                  \n",
            " conv5_block1_3_conv (Conv2D)   (None, 7, 7, 2048)   1050624     ['conv5_block1_2_relu[0][0]']    \n",
            "                                                                                                  \n",
            " conv5_block1_0_bn (BatchNormal  (None, 7, 7, 2048)  8192        ['conv5_block1_0_conv[0][0]']    \n",
            " ization)                                                                                         \n",
            "                                                                                                  \n",
            " conv5_block1_3_bn (BatchNormal  (None, 7, 7, 2048)  8192        ['conv5_block1_3_conv[0][0]']    \n",
            " ization)                                                                                         \n",
            "                                                                                                  \n",
            " conv5_block1_add (Add)         (None, 7, 7, 2048)   0           ['conv5_block1_0_bn[0][0]',      \n",
            "                                                                  'conv5_block1_3_bn[0][0]']      \n",
            "                                                                                                  \n",
            " conv5_block1_out (Activation)  (None, 7, 7, 2048)   0           ['conv5_block1_add[0][0]']       \n",
            "                                                                                                  \n",
            " conv5_block2_1_conv (Conv2D)   (None, 7, 7, 512)    1049088     ['conv5_block1_out[0][0]']       \n",
            "                                                                                                  \n",
            " conv5_block2_1_bn (BatchNormal  (None, 7, 7, 512)   2048        ['conv5_block2_1_conv[0][0]']    \n",
            " ization)                                                                                         \n",
            "                                                                                                  \n",
            " conv5_block2_1_relu (Activatio  (None, 7, 7, 512)   0           ['conv5_block2_1_bn[0][0]']      \n",
            " n)                                                                                               \n",
            "                                                                                                  \n",
            " conv5_block2_2_conv (Conv2D)   (None, 7, 7, 512)    2359808     ['conv5_block2_1_relu[0][0]']    \n",
            "                                                                                                  \n",
            " conv5_block2_2_bn (BatchNormal  (None, 7, 7, 512)   2048        ['conv5_block2_2_conv[0][0]']    \n",
            " ization)                                                                                         \n",
            "                                                                                                  \n",
            " conv5_block2_2_relu (Activatio  (None, 7, 7, 512)   0           ['conv5_block2_2_bn[0][0]']      \n",
            " n)                                                                                               \n",
            "                                                                                                  \n",
            " conv5_block2_3_conv (Conv2D)   (None, 7, 7, 2048)   1050624     ['conv5_block2_2_relu[0][0]']    \n",
            "                                                                                                  \n",
            " conv5_block2_3_bn (BatchNormal  (None, 7, 7, 2048)  8192        ['conv5_block2_3_conv[0][0]']    \n",
            " ization)                                                                                         \n",
            "                                                                                                  \n",
            " conv5_block2_add (Add)         (None, 7, 7, 2048)   0           ['conv5_block1_out[0][0]',       \n",
            "                                                                  'conv5_block2_3_bn[0][0]']      \n",
            "                                                                                                  \n",
            " conv5_block2_out (Activation)  (None, 7, 7, 2048)   0           ['conv5_block2_add[0][0]']       \n",
            "                                                                                                  \n",
            " conv5_block3_1_conv (Conv2D)   (None, 7, 7, 512)    1049088     ['conv5_block2_out[0][0]']       \n",
            "                                                                                                  \n",
            " conv5_block3_1_bn (BatchNormal  (None, 7, 7, 512)   2048        ['conv5_block3_1_conv[0][0]']    \n",
            " ization)                                                                                         \n",
            "                                                                                                  \n",
            " conv5_block3_1_relu (Activatio  (None, 7, 7, 512)   0           ['conv5_block3_1_bn[0][0]']      \n",
            " n)                                                                                               \n",
            "                                                                                                  \n",
            " conv5_block3_2_conv (Conv2D)   (None, 7, 7, 512)    2359808     ['conv5_block3_1_relu[0][0]']    \n",
            "                                                                                                  \n",
            " conv5_block3_2_bn (BatchNormal  (None, 7, 7, 512)   2048        ['conv5_block3_2_conv[0][0]']    \n",
            " ization)                                                                                         \n",
            "                                                                                                  \n",
            " conv5_block3_2_relu (Activatio  (None, 7, 7, 512)   0           ['conv5_block3_2_bn[0][0]']      \n",
            " n)                                                                                               \n",
            "                                                                                                  \n",
            " conv5_block3_3_conv (Conv2D)   (None, 7, 7, 2048)   1050624     ['conv5_block3_2_relu[0][0]']    \n",
            "                                                                                                  \n",
            " conv5_block3_3_bn (BatchNormal  (None, 7, 7, 2048)  8192        ['conv5_block3_3_conv[0][0]']    \n",
            " ization)                                                                                         \n",
            "                                                                                                  \n",
            " conv5_block3_add (Add)         (None, 7, 7, 2048)   0           ['conv5_block2_out[0][0]',       \n",
            "                                                                  'conv5_block3_3_bn[0][0]']      \n",
            "                                                                                                  \n",
            " conv5_block3_out (Activation)  (None, 7, 7, 2048)   0           ['conv5_block3_add[0][0]']       \n",
            "                                                                                                  \n",
            " flatten (Flatten)              (None, 100352)       0           ['conv5_block3_out[0][0]']       \n",
            "                                                                                                  \n",
            " dense (Dense)                  (None, 3)            301059      ['flatten[0][0]']                \n",
            "                                                                                                  \n",
            "==================================================================================================\n",
            "Total params: 23,888,771\n",
            "Trainable params: 301,059\n",
            "Non-trainable params: 23,587,712\n",
            "__________________________________________________________________________________________________\n"
          ]
        }
      ],
      "source": [
        "# view the structure of the model\n",
        "model.summary()\n"
      ]
    },
    {
      "cell_type": "code",
      "execution_count": null,
      "metadata": {
        "id": "attkcdQC2_9n"
      },
      "outputs": [],
      "source": [
        "# tell the model what cost and optimization method to use\n",
        "model.compile(\n",
        "  loss='categorical_crossentropy',\n",
        "  optimizer='adam',\n",
        "  metrics=['accuracy']\n",
        ")"
      ]
    },
    {
      "cell_type": "code",
      "execution_count": null,
      "metadata": {
        "id": "EZ_bn6QU2_9p"
      },
      "outputs": [],
      "source": [
        "# Use the Image Data Generator to import the images from the dataset\n",
        "from tensorflow.keras.preprocessing.image import ImageDataGenerator\n",
        "\n",
        "train_datagen = ImageDataGenerator(rescale = 1./255,\n",
        "                                   shear_range = 0.2,\n",
        "                                   zoom_range = 0.2,\n",
        "                                   horizontal_flip = True)\n",
        "\n",
        "test_datagen = ImageDataGenerator(rescale = 1./255)"
      ]
    },
    {
      "cell_type": "code",
      "execution_count": null,
      "metadata": {
        "colab": {
          "base_uri": "https://localhost:8080/"
        },
        "id": "jTDZ3Rhc2_9q",
        "outputId": "110cdf49-7201-4731-e47a-53ba767dab06"
      },
      "outputs": [
        {
          "name": "stdout",
          "output_type": "stream",
          "text": [
            "Found 64 images belonging to 3 classes.\n"
          ]
        }
      ],
      "source": [
        "# Make sure you provide the same target size as initialied for the image size\n",
        "training_set = train_datagen.flow_from_directory('/content/drive/MyDrive/Datasets/Train',\n",
        "                                                 target_size = (224, 224),\n",
        "                                                 batch_size = 32,\n",
        "                                                 class_mode = 'categorical')"
      ]
    },
    {
      "cell_type": "code",
      "execution_count": null,
      "metadata": {
        "colab": {
          "base_uri": "https://localhost:8080/"
        },
        "id": "5JVh0tDm2_9r",
        "outputId": "379aba63-2219-431f-a91d-fcbff1ce92e6"
      },
      "outputs": [
        {
          "name": "stdout",
          "output_type": "stream",
          "text": [
            "Found 64 images belonging to 3 classes.\n"
          ]
        }
      ],
      "source": [
        "test_set = test_datagen.flow_from_directory('/content/drive/MyDrive/Datasets/Train',\n",
        "                                            target_size = (224, 224),\n",
        "                                            batch_size = 32,\n",
        "                                            class_mode = 'categorical')"
      ]
    },
    {
      "cell_type": "code",
      "execution_count": null,
      "metadata": {
        "colab": {
          "background_save": true,
          "base_uri": "https://localhost:8080/"
        },
        "id": "PwyttklA2_9s",
        "outputId": "ff09c89d-11cf-4eb6-d8f4-dc3fe9f4913e"
      },
      "outputs": [
        {
          "name": "stderr",
          "output_type": "stream",
          "text": [
            "/usr/local/lib/python3.7/dist-packages/ipykernel_launcher.py:8: UserWarning: `Model.fit_generator` is deprecated and will be removed in a future version. Please use `Model.fit`, which supports generators.\n",
            "  \n"
          ]
        },
        {
          "name": "stdout",
          "output_type": "stream",
          "text": [
            "Epoch 1/50\n",
            "2/2 [==============================] - 33s 18s/step - loss: 4.5835 - accuracy: 0.3750 - val_loss: 15.5048 - val_accuracy: 0.3125\n",
            "Epoch 2/50\n",
            "2/2 [==============================] - 21s 15s/step - loss: 13.3704 - accuracy: 0.3125 - val_loss: 3.0159 - val_accuracy: 0.4531\n",
            "Epoch 3/50\n",
            "2/2 [==============================] - 22s 16s/step - loss: 3.3964 - accuracy: 0.4688 - val_loss: 8.1155 - val_accuracy: 0.3906\n",
            "Epoch 4/50\n",
            "2/2 [==============================] - 21s 15s/step - loss: 8.4319 - accuracy: 0.3906 - val_loss: 7.4960 - val_accuracy: 0.3906\n",
            "Epoch 5/50\n",
            "2/2 [==============================] - 21s 15s/step - loss: 7.4668 - accuracy: 0.3906 - val_loss: 7.2183 - val_accuracy: 0.4062\n",
            "Epoch 6/50\n",
            "2/2 [==============================] - 21s 15s/step - loss: 6.0288 - accuracy: 0.3750 - val_loss: 1.8978 - val_accuracy: 0.4531\n",
            "Epoch 7/50\n",
            "2/2 [==============================] - 21s 15s/step - loss: 1.5415 - accuracy: 0.5312 - val_loss: 4.1351 - val_accuracy: 0.4375\n",
            "Epoch 8/50\n",
            "2/2 [==============================] - 21s 15s/step - loss: 4.8167 - accuracy: 0.4062 - val_loss: 3.8853 - val_accuracy: 0.4844\n",
            "Epoch 9/50\n",
            "2/2 [==============================] - 21s 15s/step - loss: 3.6722 - accuracy: 0.5000 - val_loss: 4.0083 - val_accuracy: 0.4062\n",
            "Epoch 10/50\n",
            "2/2 [==============================] - 20s 15s/step - loss: 2.4567 - accuracy: 0.4062 - val_loss: 0.9227 - val_accuracy: 0.6094\n",
            "Epoch 11/50\n",
            "2/2 [==============================] - 20s 15s/step - loss: 2.1703 - accuracy: 0.5000 - val_loss: 2.3223 - val_accuracy: 0.5469\n",
            "Epoch 12/50\n",
            "2/2 [==============================] - 20s 15s/step - loss: 2.5666 - accuracy: 0.5938 - val_loss: 1.7609 - val_accuracy: 0.5312\n",
            "Epoch 13/50\n",
            "2/2 [==============================] - 20s 15s/step - loss: 1.8543 - accuracy: 0.5000 - val_loss: 0.9086 - val_accuracy: 0.6875\n",
            "Epoch 14/50\n",
            "2/2 [==============================] - 20s 15s/step - loss: 1.0288 - accuracy: 0.6094 - val_loss: 2.4274 - val_accuracy: 0.4531\n",
            "Epoch 15/50\n",
            "2/2 [==============================] - 21s 15s/step - loss: 1.3619 - accuracy: 0.5469 - val_loss: 1.0902 - val_accuracy: 0.5938\n",
            "Epoch 16/50\n",
            "2/2 [==============================] - 20s 15s/step - loss: 1.1178 - accuracy: 0.5938 - val_loss: 0.7845 - val_accuracy: 0.7188\n",
            "Epoch 17/50\n",
            "2/2 [==============================] - 20s 15s/step - loss: 1.0495 - accuracy: 0.7031 - val_loss: 0.8018 - val_accuracy: 0.6562\n",
            "Epoch 18/50\n",
            "2/2 [==============================] - 20s 15s/step - loss: 0.7545 - accuracy: 0.6875 - val_loss: 1.2349 - val_accuracy: 0.5625\n",
            "Epoch 19/50\n",
            "2/2 [==============================] - 20s 15s/step - loss: 0.8990 - accuracy: 0.6875 - val_loss: 1.1452 - val_accuracy: 0.6250\n",
            "Epoch 20/50\n",
            "2/2 [==============================] - 20s 15s/step - loss: 0.7851 - accuracy: 0.6094 - val_loss: 0.6076 - val_accuracy: 0.7500\n",
            "Epoch 21/50\n",
            "2/2 [==============================] - 20s 15s/step - loss: 0.7003 - accuracy: 0.6562 - val_loss: 0.5346 - val_accuracy: 0.7344\n",
            "Epoch 22/50\n",
            "2/2 [==============================] - 21s 15s/step - loss: 0.6161 - accuracy: 0.6875 - val_loss: 0.6528 - val_accuracy: 0.7031\n",
            "Epoch 23/50\n",
            "2/2 [==============================] - 21s 15s/step - loss: 0.4439 - accuracy: 0.7812 - val_loss: 0.8607 - val_accuracy: 0.6719\n",
            "Epoch 24/50\n",
            "2/2 [==============================] - 21s 15s/step - loss: 0.5270 - accuracy: 0.7344 - val_loss: 0.4971 - val_accuracy: 0.7500\n",
            "Epoch 25/50\n",
            "2/2 [==============================] - 21s 15s/step - loss: 0.4232 - accuracy: 0.8281 - val_loss: 0.3818 - val_accuracy: 0.8281\n",
            "Epoch 26/50\n",
            "2/2 [==============================] - 21s 15s/step - loss: 0.4509 - accuracy: 0.7812 - val_loss: 0.5806 - val_accuracy: 0.7188\n",
            "Epoch 27/50\n",
            "2/2 [==============================] - 21s 15s/step - loss: 0.4846 - accuracy: 0.7656 - val_loss: 0.6286 - val_accuracy: 0.7656\n",
            "Epoch 28/50\n",
            "2/2 [==============================] - 21s 15s/step - loss: 0.4918 - accuracy: 0.7656 - val_loss: 0.4056 - val_accuracy: 0.8281\n",
            "Epoch 29/50\n",
            "2/2 [==============================] - 20s 15s/step - loss: 0.4383 - accuracy: 0.7812 - val_loss: 0.3337 - val_accuracy: 0.8438\n",
            "Epoch 30/50\n",
            "2/2 [==============================] - 21s 15s/step - loss: 0.4395 - accuracy: 0.8125 - val_loss: 0.4620 - val_accuracy: 0.7812\n",
            "Epoch 31/50\n",
            "2/2 [==============================] - 21s 15s/step - loss: 0.3726 - accuracy: 0.8281 - val_loss: 0.3786 - val_accuracy: 0.8438\n",
            "Epoch 32/50\n",
            "2/2 [==============================] - 20s 15s/step - loss: 0.3717 - accuracy: 0.8125 - val_loss: 0.3384 - val_accuracy: 0.8750\n",
            "Epoch 33/50\n",
            "2/2 [==============================] - 24s 18s/step - loss: 0.3795 - accuracy: 0.8281 - val_loss: 0.3861 - val_accuracy: 0.8438\n",
            "Epoch 34/50\n",
            "2/2 [==============================] - 21s 15s/step - loss: 0.3255 - accuracy: 0.8750 - val_loss: 0.2617 - val_accuracy: 0.9062\n",
            "Epoch 35/50\n",
            "2/2 [==============================] - 21s 15s/step - loss: 0.2968 - accuracy: 0.9062 - val_loss: 0.3260 - val_accuracy: 0.8594\n",
            "Epoch 36/50\n",
            "2/2 [==============================] - 21s 15s/step - loss: 0.3394 - accuracy: 0.8750 - val_loss: 0.3145 - val_accuracy: 0.8594\n",
            "Epoch 37/50\n",
            "2/2 [==============================] - 21s 15s/step - loss: 0.2853 - accuracy: 0.9062 - val_loss: 0.3171 - val_accuracy: 0.8594\n",
            "Epoch 38/50\n",
            "2/2 [==============================] - 21s 15s/step - loss: 0.2927 - accuracy: 0.9219 - val_loss: 0.2281 - val_accuracy: 0.9219\n",
            "Epoch 39/50\n",
            "2/2 [==============================] - 21s 15s/step - loss: 0.2792 - accuracy: 0.9219 - val_loss: 0.2936 - val_accuracy: 0.8750\n",
            "Epoch 40/50\n",
            "2/2 [==============================] - 21s 15s/step - loss: 0.2172 - accuracy: 0.9062 - val_loss: 0.2638 - val_accuracy: 0.8750\n",
            "Epoch 41/50\n",
            "2/2 [==============================] - 21s 15s/step - loss: 0.2246 - accuracy: 0.9688 - val_loss: 0.2626 - val_accuracy: 0.8750\n",
            "Epoch 42/50\n",
            "2/2 [==============================] - 21s 15s/step - loss: 0.2295 - accuracy: 0.9375 - val_loss: 0.2306 - val_accuracy: 0.9062\n",
            "Epoch 43/50\n",
            "2/2 [==============================] - 21s 15s/step - loss: 0.2251 - accuracy: 0.9688 - val_loss: 0.2115 - val_accuracy: 0.9219\n",
            "Epoch 44/50\n",
            "2/2 [==============================] - 21s 15s/step - loss: 0.2394 - accuracy: 0.9375 - val_loss: 0.2331 - val_accuracy: 0.9062\n",
            "Epoch 45/50\n",
            "2/2 [==============================] - 21s 15s/step - loss: 0.2094 - accuracy: 0.9688 - val_loss: 0.2518 - val_accuracy: 0.8906\n",
            "Epoch 46/50\n",
            "2/2 [==============================] - 21s 15s/step - loss: 0.2212 - accuracy: 0.9688 - val_loss: 0.2069 - val_accuracy: 0.9531\n",
            "Epoch 47/50\n",
            "2/2 [==============================] - 21s 15s/step - loss: 0.1972 - accuracy: 0.9375 - val_loss: 0.2033 - val_accuracy: 0.9531\n",
            "Epoch 48/50\n",
            "2/2 [==============================] - 21s 15s/step - loss: 0.1846 - accuracy: 0.9688 - val_loss: 0.2062 - val_accuracy: 0.9375\n",
            "Epoch 49/50\n",
            "2/2 [==============================] - 21s 15s/step - loss: 0.2179 - accuracy: 0.9531 - val_loss: 0.2301 - val_accuracy: 0.8906\n",
            "Epoch 50/50\n",
            "2/2 [==============================] - 21s 15s/step - loss: 0.2083 - accuracy: 0.9688 - val_loss: 0.2020 - val_accuracy: 0.9531\n"
          ]
        }
      ],
      "source": [
        "# fit the model\n",
        "# Run the cell. It will take some time to execute\n",
        "r = model.fit_generator(\n",
        "  training_set,\n",
        "  validation_data=test_set,\n",
        "  epochs=50,\n",
        "  steps_per_epoch=len(training_set),\n",
        "  validation_steps=len(test_set)\n",
        ")"
      ]
    },
    {
      "cell_type": "code",
      "execution_count": null,
      "metadata": {
        "colab": {
          "base_uri": "https://localhost:8080/",
          "height": 535
        },
        "id": "hsYPExXZ2_9t",
        "outputId": "48064048-77ea-4e7d-c094-a15ea9de0a43"
      },
      "outputs": [
        {
          "data": {
            "image/png": "[encoded data removed]",
            "text/plain": [
              "<Figure size 432x288 with 1 Axes>"
            ]
          },
          "metadata": {},
          "output_type": "display_data"
        },
        {
          "data": {
            "image/png": "[encoded data removed]",
            "text/plain": [
              "<Figure size 432x288 with 1 Axes>"
            ]
          },
          "metadata": {},
          "output_type": "display_data"
        },
        {
          "data": {
            "text/plain": [
              "<Figure size 432x288 with 0 Axes>"
            ]
          },
          "metadata": {},
          "output_type": "display_data"
        }
      ],
      "source": [
        "# plot the loss\n",
        "plt.plot(r.history['loss'], label='train loss')\n",
        "plt.plot(r.history['val_loss'], label='val loss')\n",
        "plt.legend()\n",
        "plt.show()\n",
        "plt.savefig('LossVal_loss')\n",
        "\n",
        "# plot the accuracy\n",
        "plt.plot(r.history['accuracy'], label='train acc')\n",
        "plt.plot(r.history['val_accuracy'], label='val acc')\n",
        "plt.legend()\n",
        "plt.show()\n",
        "plt.savefig('AccVal_acc')"
      ]
    },
    {
      "cell_type": "code",
      "execution_count": null,
      "metadata": {
        "colab": {
          "base_uri": "https://localhost:8080/"
        },
        "id": "3JiK5qIl2_9u",
        "outputId": "e1124d9f-8dc5-4be8-eba7-30e3c61ac4b0"
      },
      "outputs": [
        {
          "name": "stderr",
          "output_type": "stream",
          "text": [
            "/usr/local/lib/python3.7/dist-packages/keras/engine/functional.py:1410: CustomMaskWarning: Custom mask layers require a config and must override get_config. When loading, the custom mask layer must be passed to the custom_objects argument.\n",
            "  layer_config = serialize_layer_fn(layer)\n"
          ]
        }
      ],
      "source": [
        "# save it as a h5 file\n",
        "\n",
        "\n",
        "from tensorflow.keras.models import load_model\n",
        "\n",
        "model.save('/content/drive/MyDrive/model_resnet50.h5')"
      ]
    },
    {
      "cell_type": "code",
      "execution_count": null,
      "metadata": {
        "id": "NnqJgMqO2_9v"
      },
      "outputs": [],
      "source": [
        "\n",
        "y_pred = model.predict(test_set)\n"
      ]
    },
    {
      "cell_type": "code",
      "execution_count": null,
      "metadata": {
        "colab": {
          "base_uri": "https://localhost:8080/"
        },
        "id": "lrmneF222_9v",
        "outputId": "1f355b70-4579-476f-c263-37aa6a051469"
      },
      "outputs": [
        {
          "data": {
            "text/plain": [
              "array([[9.7003418e-01, 1.9712560e-03, 2.7994588e-02],\n",
              "       [4.7816016e-02, 2.2640505e-01, 7.2577894e-01],\n",
              "       [1.4205911e-02, 7.1108276e-01, 2.7471137e-01],\n",
              "       [1.3914254e-01, 5.9913361e-01, 2.6172388e-01],\n",
              "       [5.1092929e-01, 2.4565266e-01, 2.4341796e-01],\n",
              "       [1.7014001e-02, 2.6691085e-01, 7.1607512e-01],\n",
              "       [5.9957355e-02, 8.6560416e-01, 7.4438564e-02],\n",
              "       [9.0892982e-01, 8.2315929e-02, 8.7542310e-03],\n",
              "       [3.0751127e-01, 1.8172402e-02, 6.7431635e-01],\n",
              "       [6.6835812e-16, 3.3587709e-14, 1.0000000e+00],\n",
              "       [9.9478769e-01, 5.1175207e-03, 9.4770512e-05],\n",
              "       [1.9918293e-04, 1.8888572e-06, 9.9979895e-01],\n",
              "       [1.8057907e-03, 9.9673802e-01, 1.4561698e-03],\n",
              "       [8.2993925e-02, 6.8144476e-01, 2.3556131e-01],\n",
              "       [7.8128606e-01, 1.5482976e-01, 6.3884214e-02],\n",
              "       [9.8813407e-04, 9.8793155e-01, 1.1080368e-02],\n",
              "       [1.4515901e-02, 2.6001735e-02, 9.5948231e-01],\n",
              "       [3.0328801e-02, 1.7502618e-01, 7.9464501e-01],\n",
              "       [4.2126563e-01, 4.8817056e-01, 9.0563834e-02],\n",
              "       [8.9825964e-01, 2.1222239e-02, 8.0518052e-02],\n",
              "       [3.3261413e-03, 2.8461786e-03, 9.9382764e-01],\n",
              "       [1.1954729e-10, 6.0853489e-10, 1.0000000e+00],\n",
              "       [3.5055807e-01, 5.1697683e-01, 1.3246508e-01],\n",
              "       [1.5597439e-03, 9.7908258e-01, 1.9357624e-02],\n",
              "       [9.9978524e-01, 4.4220818e-05, 1.7053368e-04],\n",
              "       [8.8592261e-01, 2.6493988e-03, 1.1142791e-01],\n",
              "       [4.5507886e-02, 4.7497857e-02, 9.0699422e-01],\n",
              "       [3.5816797e-03, 1.9775973e-01, 7.9865855e-01],\n",
              "       [7.6855404e-06, 1.7363070e-04, 9.9981874e-01],\n",
              "       [2.6225442e-09, 1.8589335e-11, 1.0000000e+00],\n",
              "       [1.4432004e-02, 9.7580564e-01, 9.7623095e-03],\n",
              "       [9.6878484e-02, 8.5515594e-01, 4.7965556e-02],\n",
              "       [1.7192706e-02, 9.5963794e-01, 2.3169350e-02],\n",
              "       [6.6411351e-03, 9.9305445e-01, 3.0440019e-04],\n",
              "       [6.5424688e-02, 2.2341239e-03, 9.3234128e-01],\n",
              "       [4.6315892e-03, 2.3763482e-03, 9.9299204e-01],\n",
              "       [6.0827172e-01, 1.0643955e-01, 2.8528881e-01],\n",
              "       [9.5918971e-01, 2.6800733e-02, 1.4009601e-02],\n",
              "       [8.2688844e-01, 6.7045793e-02, 1.0606583e-01],\n",
              "       [4.1683991e-03, 9.9015439e-01, 5.6771543e-03],\n",
              "       [9.9990833e-01, 5.5117263e-05, 3.6573078e-05],\n",
              "       [5.9923655e-01, 4.9744915e-02, 3.5101858e-01],\n",
              "       [3.2963394e-04, 1.2896149e-03, 9.9838078e-01],\n",
              "       [2.5305491e-02, 9.5742899e-01, 1.7265454e-02],\n",
              "       [2.6123473e-02, 9.6102428e-01, 1.2852213e-02],\n",
              "       [3.5473556e-07, 4.6793838e-07, 9.9999917e-01],\n",
              "       [9.9401432e-01, 1.4566840e-03, 4.5290464e-03],\n",
              "       [2.2043544e-03, 9.0899760e-01, 8.8798046e-02],\n",
              "       [5.5438043e-08, 7.1921095e-06, 9.9999273e-01],\n",
              "       [3.6067251e-02, 7.9099047e-01, 1.7294228e-01],\n",
              "       [3.3748579e-01, 1.0052928e-01, 5.6198490e-01],\n",
              "       [5.0831839e-02, 8.9415002e-01, 5.5018075e-02],\n",
              "       [9.8281628e-01, 1.2594368e-02, 4.5894366e-03],\n",
              "       [5.8485726e-05, 5.2641121e-06, 9.9993622e-01],\n",
              "       [9.7817010e-01, 6.2633962e-03, 1.5566491e-02],\n",
              "       [8.1592268e-01, 1.1216209e-01, 7.1915194e-02],\n",
              "       [8.9058317e-03, 1.9345029e-01, 7.9764390e-01],\n",
              "       [9.7324330e-01, 2.2842826e-02, 3.9137537e-03],\n",
              "       [9.9142563e-01, 1.0642891e-03, 7.5100367e-03],\n",
              "       [1.1319779e-01, 1.1843420e-02, 8.7495881e-01],\n",
              "       [8.0276858e-03, 9.7185034e-01, 2.0121885e-02],\n",
              "       [1.0728223e-01, 9.5780469e-02, 7.9693729e-01],\n",
              "       [8.4613121e-01, 1.0833995e-02, 1.4303486e-01],\n",
              "       [1.1598399e-01, 8.6858892e-01, 1.5426956e-02]], dtype=float32)"
            ]
          },
          "execution_count": 20,
          "metadata": {},
          "output_type": "execute_result"
        }
      ],
      "source": [
        "y_pred"
      ]
    },
    {
      "cell_type": "code",
      "execution_count": null,
      "metadata": {
        "id": "P4WujPKS2_9w"
      },
      "outputs": [],
      "source": [
        "import numpy as np\n",
        "y_pred = np.argmax(y_pred, axis=1)"
      ]
    },
    {
      "cell_type": "code",
      "execution_count": null,
      "metadata": {
        "colab": {
          "base_uri": "https://localhost:8080/"
        },
        "id": "Kw_64IZH2_9z",
        "outputId": "022c7b63-9b73-42a7-a8e9-03bdf3ed63de"
      },
      "outputs": [
        {
          "data": {
            "text/plain": [
              "array([0, 2, 1, 1, 0, 2, 1, 0, 2, 2, 0, 2, 1, 1, 0, 1, 2, 2, 1, 0, 2, 2,\n",
              "       1, 1, 0, 0, 2, 2, 2, 2, 1, 1, 1, 1, 2, 2, 0, 0, 0, 1, 0, 0, 2, 1,\n",
              "       1, 2, 0, 1, 2, 1, 2, 1, 0, 2, 0, 0, 2, 0, 0, 2, 1, 2, 0, 1])"
            ]
          },
          "execution_count": 22,
          "metadata": {},
          "output_type": "execute_result"
        }
      ],
      "source": [
        "y_pred"
      ]
    },
    {
      "cell_type": "code",
      "execution_count": null,
      "metadata": {
        "id": "FOp-bzfj2_-A"
      },
      "outputs": [],
      "source": [
        "from tensorflow.keras.models import load_model\n",
        "from tensorflow.keras.preprocessing import image"
      ]
    },
    {
      "cell_type": "code",
      "execution_count": null,
      "metadata": {
        "id": "XMNGFsqH2_-B"
      },
      "outputs": [],
      "source": [
        "model=load_model('/content/model_resnet50.h5')"
      ]
    },
    {
      "cell_type": "code",
      "execution_count": null,
      "metadata": {
        "id": "JNMI8xTp2_-E"
      },
      "outputs": [],
      "source": [
        "img=image.load_img('/content/drive/MyDrive/Datasets/Test/audi/29.jpg',target_size=(224,224))"
      ]
    },
    {
      "cell_type": "code",
      "execution_count": null,
      "metadata": {
        "colab": {
          "base_uri": "https://localhost:8080/"
        },
        "id": "QM-eHPrf2_-F",
        "outputId": "2c9c479c-d93f-4f5e-bc50-273ce3321e77"
      },
      "outputs": [
        {
          "data": {
            "text/plain": [
              "array([[[ 64.,  64.,  72.],\n",
              "        [ 36.,  36.,  44.],\n",
              "        [ 39.,  39.,  47.],\n",
              "        ...,\n",
              "        [200., 206., 220.],\n",
              "        [200., 206., 220.],\n",
              "        [200., 206., 220.]],\n",
              "\n",
              "       [[121., 121., 129.],\n",
              "        [ 89.,  89.,  97.],\n",
              "        [ 74.,  74.,  82.],\n",
              "        ...,\n",
              "        [199., 205., 219.],\n",
              "        [199., 205., 219.],\n",
              "        [199., 205., 219.]],\n",
              "\n",
              "       [[121., 121., 129.],\n",
              "        [ 89.,  89.,  97.],\n",
              "        [ 74.,  74.,  82.],\n",
              "        ...,\n",
              "        [199., 205., 219.],\n",
              "        [199., 205., 219.],\n",
              "        [199., 205., 219.]],\n",
              "\n",
              "       ...,\n",
              "\n",
              "       [[167., 170., 175.],\n",
              "        [164., 167., 172.],\n",
              "        [163., 166., 171.],\n",
              "        ...,\n",
              "        [163., 166., 171.],\n",
              "        [163., 166., 171.],\n",
              "        [162., 165., 170.]],\n",
              "\n",
              "       [[167., 170., 175.],\n",
              "        [164., 167., 172.],\n",
              "        [163., 166., 171.],\n",
              "        ...,\n",
              "        [163., 166., 171.],\n",
              "        [163., 166., 171.],\n",
              "        [162., 165., 170.]],\n",
              "\n",
              "       [[170., 173., 178.],\n",
              "        [168., 171., 176.],\n",
              "        [166., 169., 174.],\n",
              "        ...,\n",
              "        [161., 164., 169.],\n",
              "        [160., 163., 168.],\n",
              "        [158., 161., 166.]]], dtype=float32)"
            ]
          },
          "execution_count": 47,
          "metadata": {},
          "output_type": "execute_result"
        }
      ],
      "source": [
        "x=image.img_to_array(img)\n",
        "x"
      ]
    },
    {
      "cell_type": "code",
      "execution_count": null,
      "metadata": {
        "colab": {
          "base_uri": "https://localhost:8080/"
        },
        "id": "daGA9V5u2_-F",
        "outputId": "6ba8a5b7-1705-4348-f0d4-6d54f1a01864"
      },
      "outputs": [
        {
          "data": {
            "text/plain": [
              "(224, 224, 3)"
            ]
          },
          "execution_count": 48,
          "metadata": {},
          "output_type": "execute_result"
        }
      ],
      "source": [
        "x.shape"
      ]
    },
    {
      "cell_type": "code",
      "execution_count": null,
      "metadata": {
        "id": "uSUVxawx2_-G"
      },
      "outputs": [],
      "source": [
        "x=x/255"
      ]
    },
    {
      "cell_type": "code",
      "execution_count": null,
      "metadata": {
        "colab": {
          "base_uri": "https://localhost:8080/"
        },
        "id": "AiHyBlCq2_-G",
        "outputId": "95b94977-47b1-40d0-88dc-43d58513d872"
      },
      "outputs": [
        {
          "data": {
            "text/plain": [
              "(1, 224, 224, 3)"
            ]
          },
          "execution_count": 50,
          "metadata": {},
          "output_type": "execute_result"
        }
      ],
      "source": [
        "x=np.expand_dims(x,axis=0)\n",
        "img_data=preprocess_input(x)\n",
        "img_data.shape"
      ]
    },
    {
      "cell_type": "code",
      "execution_count": null,
      "metadata": {
        "colab": {
          "base_uri": "https://localhost:8080/"
        },
        "id": "6QQkH2yH2_-H",
        "outputId": "1f343824-0dce-473f-e8e2-d00b9d2a95c0"
      },
      "outputs": [
        {
          "data": {
            "text/plain": [
              "array([[0.10691272, 0.3655908 , 0.52749646]], dtype=float32)"
            ]
          },
          "execution_count": 51,
          "metadata": {},
          "output_type": "execute_result"
        }
      ],
      "source": [
        "model.predict(img_data)"
      ]
    },
    {
      "cell_type": "code",
      "execution_count": null,
      "metadata": {
        "id": "SpGLB5lm2_-H"
      },
      "outputs": [],
      "source": [
        "a=np.argmax(model.predict(img_data), axis=1)"
      ]
    },
    {
      "cell_type": "code",
      "execution_count": null,
      "metadata": {
        "colab": {
          "base_uri": "https://localhost:8080/"
        },
        "id": "qO03OwrT2_-H",
        "outputId": "fb28d032-6ce5-4401-c404-80a819032cb6"
      },
      "outputs": [
        {
          "data": {
            "text/plain": [
              "array([2])"
            ]
          },
          "execution_count": 53,
          "metadata": {},
          "output_type": "execute_result"
        }
      ],
      "source": [
        "a"
      ]
    }
  ],
  "metadata": {
    "accelerator": "GPU",
    "colab": {
      "name": "car brand Transfer learning.ipynb",
      "provenance": []
    },
    "kernelspec": {
      "display_name": "Python 3",
      "language": "python",
      "name": "python3"
    },
    "language_info": {
      "codemirror_mode": {
        "name": "ipython",
        "version": 3
      },
      "file_extension": ".py",
      "mimetype": "text/x-python",
      "name": "python",
      "nbconvert_exporter": "python",
      "pygments_lexer": "ipython3",
      "version": "3.7.7"
    }
  },
  "nbformat": 4,
  "nbformat_minor": 0
}